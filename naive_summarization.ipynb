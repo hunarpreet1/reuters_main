{
 "cells": [
  {
   "cell_type": "code",
   "execution_count": 70,
   "metadata": {
    "collapsed": true
   },
   "outputs": [],
   "source": [
    "import re\n",
    "import nltk\n",
    "import collections\n",
    "import math\n",
    "from nltk.corpus import reuters\n",
    "from nltk.corpus import stopwords\n",
    "import numpy as np\n",
    "import random\n",
    "import pickle\n",
    "from nltk.corpus import reuters"
   ]
  },
  {
   "cell_type": "code",
   "execution_count": 116,
   "metadata": {
    "collapsed": true
   },
   "outputs": [],
   "source": [
    "#load the required data\n",
    "def load_data(master_dict):\n",
    "    with open(master_dict, \"rb\") as f:\n",
    "        data = pickle.load(f)\n",
    "    return data \n",
    "\n",
    "data = load_data(\"dict.dat\")        "
   ]
  },
  {
   "cell_type": "code",
   "execution_count": 117,
   "metadata": {
    "collapsed": true
   },
   "outputs": [],
   "source": [
    "#get all the trained variables\n",
    "embeddings = data['embeddings']\n",
    "reverse_dictionary = data['reverse_dictionary']\n",
    "dictionary = data['dictionary']\n",
    "\n",
    "#delete data to free some memory\n",
    "del(data)"
   ]
  },
  {
   "cell_type": "code",
   "execution_count": null,
   "metadata": {
    "collapsed": true
   },
   "outputs": [],
   "source": [
    "documents = reuters.fileids()\n",
    "train_docs = list(filter(lambda doc: doc.startswith(\"test\"),documents));\n",
    "all_sents = []\n",
    "for doc in train_docs:\n",
    "    sent = reuters.sents(fileids=[doc])\n",
    "    all_sents = all_sents + list(sent)"
   ]
  },
  {
   "cell_type": "code",
   "execution_count": 101,
   "metadata": {},
   "outputs": [
    {
     "name": "stdout",
     "output_type": "stream",
     "text": [
      "ASIAN EXPORTERS FEAR DAMAGE FROM U.S.-JAPAN RIFT  Mounting trade friction between the  U.S. And Japan has raised fears among many of Asia's exporting  nations that the row could inflict far-reaching economic  damage, businessmen and officials said.      They told Reuter correspondents in Asian capitals a U.S.  Move against Japan might boost protectionist sentiment in the  U.S. And lead to curbs on American imports of their products.      But some exporters said that while the conflict would hurt  them in the long-run, in the short-term Tokyo's loss might be  their gain.      The U.S. Has said it will impose 300 mln dlrs of tariffs on  imports of Japanese electronics goods on April 17, in  retaliation for Japan's alleged failure to stick to a pact not  to sell semiconductors on world markets at below cost.      Unofficial Japanese estimates put the impact of the tariffs  at 10 billion dlrs and spokesmen for major electronics firms  said they would virtually halt exports of products hit by the  new taxes.      \"We wouldn't be able to do business,\" said a spokesman for  leading Japanese electronics firm Matsushita Electric  Industrial Co Ltd &lt;MC.T>.      \"If the tariffs remain in place for any length of time  beyond a few months it will mean the complete erosion of  exports (of goods subject to tariffs) to the U.S.,\" said Tom  Murtha, a stock analyst at the Tokyo office of broker &lt;James  Capel and Co>.      In Taiwan, businessmen and officials are also worried.      \"We are aware of the seriousness of the U.S. Threat against  Japan because it serves as a warning to us,\" said a senior  Taiwanese trade official who asked not to be named.      Taiwan had a trade trade surplus of 15.6 billion dlrs last  year, 95 pct of it with the U.S.      The surplus helped swell Taiwan's foreign exchange reserves  to 53 billion dlrs, among the world's largest.      \"We must quickly open our markets, remove trade barriers and  cut import tariffs to allow imports of U.S. Products, if we  want to defuse problems from possible U.S. Retaliation,\" said  Paul Sheen, chairman of textile exporters &lt;Taiwan Safe Group>.      A senior official of South Korea's trade promotion  association said the trade dispute between the U.S. And Japan  might also lead to pressure on South Korea, whose chief exports  are similar to those of Japan.      Last year South Korea had a trade surplus of 7.1 billion  dlrs with the U.S., Up from 4.9 billion dlrs in 1985.      In Malaysia, trade officers and businessmen said tough  curbs against Japan might allow hard-hit producers of  semiconductors in third countries to expand their sales to the  U.S.      In Hong Kong, where newspapers have alleged Japan has been  selling below-cost semiconductors, some electronics  manufacturers share that view. But other businessmen said such  a short-term commercial advantage would be outweighed by  further U.S. Pressure to block imports.      \"That is a very short-term view,\" said Lawrence Mills,  director-general of the Federation of Hong Kong Industry.      \"If the whole purpose is to prevent imports, one day it will  be extended to other sources. Much more serious for Hong Kong  is the disadvantage of action restraining trade,\" he said.      The U.S. Last year was Hong Kong's biggest export market,  accounting for over 30 pct of domestically produced exports.      The Australian government is awaiting the outcome of trade  talks between the U.S. And Japan with interest and concern,  Industry Minister John Button said in Canberra last Friday.      \"This kind of deterioration in trade relations between two  countries which are major trading partners of ours is a very  serious matter,\" Button said.      He said Australia's concerns centred on coal and beef,  Australia's two largest exports to Japan and also significant  U.S. Exports to that country.      Meanwhile U.S.-Japanese diplomatic manoeuvres to solve the  trade stand-off continue.      Japan's ruling Liberal Democratic Party yesterday outlined  a package of economic measures to boost the Japanese economy.      The measures proposed include a large supplementary budget  and record public works spending in the first half of the  financial year.      They also call for stepped-up spending as an emergency  measure to stimulate the economy despite Prime Minister  Yasuhiro Nakasone's avowed fiscal reform program.      Deputy U.S. Trade Representative Michael Smith and Makoto  Kuroda, Japan's deputy minister of International Trade and  Industry (MITI), are due to meet in Washington this week in an  effort to end the dispute.  CHINA DAILY SAYS VERMIN EAT 7-12 PCT GRAIN STOCKS  A survey of 19 provinces and seven cities  showed vermin consume between seven and 12 pct of China's grain  stocks, the China Daily said.      It also said that each year 1.575 mln tonnes, or 25 pct, of  China's fruit output are left to rot, and 2.1 mln tonnes, or up  to 30 pct, of its vegetables. The paper blamed the waste on  inadequate storage and bad preservation methods.      It said the government had launched a national programme to  reduce waste, calling for improved technology in storage and  preservation, and greater production of additives. The paper  gave no further details.  JAPAN TO REVISE LONG-TERM ENERGY DEMAND DOWNWARDS  The Ministry of International Trade and  Industry (MITI) will revise its long-term energy supply/demand  outlook by August to meet a forecast downtrend in Japanese  energy demand, ministry officials said.      MITI is expected to lower the projection for primary energy  supplies in the year 2000 to 550 mln kilolitres (kl) from 600  mln, they said.      The decision follows the emergence of structural changes in  Japanese industry following the rise in the value of the yen  and a decline in domestic electric power demand.      MITI is planning to work out a revised energy supply/demand  outlook through deliberations of committee meetings of the  Agency of Natural Resources and Energy, the officials said.      They said MITI will also review the breakdown of energy  supply sources, including oil, nuclear, coal and natural gas.      Nuclear energy provided the bulk of Japan's electric power  in the fiscal year ended March 31, supplying an estimated 27  pct on a kilowatt/hour basis, followed by oil (23 pct) and  liquefied natural gas (21 pct), they noted.  INDONESIA SEES CPO PRICE RISING SHARPLY  Indonesia expects crude palm oil (CPO)  prices to rise sharply to between 450 and 550 dlrs a tonne FOB  sometime this year because of better European demand and a fall  in Malaysian output, Hasrul Harahap, junior minister for tree  crops, told Indonesian reporters.      Prices of Malaysian and Sumatran CPO are now around 332  dlrs a tonne CIF for delivery in Rotterdam, traders said.      Harahap said Indonesia would maintain its exports, despite  making recent palm oil purchases from Malaysia, so that it  could possibly increase its international market share.      Indonesia, the world's second largest producer of palm oil  after Malaysia, has been forced to import palm oil to ensure  supplies during the Moslem fasting month of Ramadan.      Harahap said it was better to import to cover a temporary  shortage than to lose export markets.      Indonesian exports of CPO in calendar 1986 were 530,500  tonnes, against 468,500 in 1985, according to central bank  figures.  ISUZU PLANS NO INTERIM DIVIDEND  Isuzu Motor Ltd &lt;ISUM.T> will pay no  dividend for the first half year ending April 30, 1987, as the  company is expected to mark a 12 billion yen parent company  current loss in the first half due to slow exports caused by  the yen's appreciation, a company spokesman said.      The company has paid no dividend since the year ended  October 31, 1983, when it paid five yen.      It had a 4.44 billion yen current profit in the first half  of 1985/86.  SHOWA DENKO EXPORTS ALUMINIUM CASTING EQUIPMENT  &lt;Showa Denko Ltd> said it is exporting  aluminium billet casting equipment and technology to countries  that have recently begun aluminium smelting.      A company official said it won a 500 mln yen order to  deliver 10 sets of casting equipment to Venezuela's Venalum by  end-1987. He said it received an order for one set from  Aluminium Bahrain B.S.C. Last year and expects further orders  from the Bahrain smelter.      Showa Denko withdrew from smelting last year but expects to  increase its sales of equipment and technology, he said.    PRESTON CORP &lt;PTRK> SEES FIRST QUARTER LOSS  Preston corp said it expects to  report a loss of about 300,000 dlrs or five cts per share for  the first quarter, compared with a profit of 1,081,000 dlrs or  19 cts per share a year before.                The trucking company attributed the loss to the continued  rate of discounted in its primary markets, flat revenues and  increased costs, including uninsured claims expense resulting  from adverse weather conditions during the last three months.      It said results outside the Northeast were strong, and it  expects to show improved results for the rest of the year.  BELGIUM TO ISSUE GOLD WARRANTS, SOURCES SAY  Belgium plans to issue Swiss franc  warrants to buy gold, with Credit Suisse as lead manager,  market sources said.      No confirmation or further details were immediately  available.  CENTURY &lt;CCC.O> TO BUY TO PUERTO RICAN CO  Century Communications Corp  said it had entered into an agreement to acquire all the assets  of &lt;Community Cable Vision of Puerto Rico Associates>  and its  associated companies for about 12 mln dlrs.      Century said it anticipates that &lt;ML Media Partners LP>,  which jointly owns with Century a company called &lt;Cable  Television Co> of greater San Juan, will join in acquisition  and management of Community Cable.      Century said Community Cable is located in San Juan, Puerto  Rico.  CHINA RESUMES USSR SHIP REPAIRS AFTER 23 YEAR GAP  China has resumed repairs of Soviet ships  after a 23 year break caused by the ideological split between  the two countries.      The New China News Agency said an agreement to resume the  business was signed by the two sides on Wednesday in Shanghai,  where three Soviet commercial vessels were being repaired.      The China Daily said the first two Soviet ships to be  repaired in China since 1964 left the ports of Dalian and  Xingang last month.      Bi Yueran, managing director of China State Shipbuilding  Corp's ship repair department, told the newspaper the Soviet  Union lacked adequate repair facilities for the more than 600  ships deployed in the far east. Bi said China's yards offered  competitive prices, guaranteed quality and prompt delivery.  TEKTRONIX &lt;TEK> BEGINS DUTCH AUCTION TENDER  Tektronix Inc said it began its  previously announced Dutch Auction cash tender offer for up to  10 mln of its own common shares.      Under the terms of the offer the company will select a  single cash purchase price for the stock, based on the number  of shares tendered, not to exceed 40 dlrs per share or be lower  than 35 dlrs per share, Tektronix said.      The company also said it does not intend to spend more than  380 mln dlrs for the shares tendered.      It further stated that the tender offer expires on July  eight, unless extended.  CORADIAN &lt;CDIN.O> STAKE ACQUIRED BY SAGE  Coradian Corp said a group led by  privately held Sage Equities Group agreed to buy a 7.6 pct  interest in Coradian.      In connection with the agreement, the company said it sold  666,667 shares at 75 cts a share.      It said that in addition to common stock, Sage Equities  will receive 667,667 warrants exercisable at 1.50 dlrs a share.  HENLEY &lt;HENG.O> HAS VENEZUELAN REFINERY PROJECT  Henley Group Inc's M.W. Kellogg Co  subsidiary said it in consortium with &lt;Inelectra> received a  contract from Corpoven S.A., a Venezuelan-owned domestic oil  company, to revamp and expand its El Palito Refinery.      Kellogg said the installed cost of the work to be performed  is estimated to be 130 mln dlrs. Inelectra, Kellogg said, is a  major Venezuelan engineering firm.     Kellog said the project will enable the refinery to produce  BTX products -- benzene, toluene, and orthoxylene -- by  processing naphtha feed from an expanded reformer-hydrotreater.      Kellogg said the refinery's reformer-hydrotreater will be  upgraded to 9,500 barrels a day capacity from 7,500.      It said the new BTX process units include aromatic  extraction, xylene fractionation, xylene isomerization and  thermal hydrodealkylation.      Kellogg pointed out that Venezuela now imports all of its  BTX aromatics.    \n"
     ]
    }
   ],
   "source": [
    "#read the input file and store it in a string\n",
    "def read_file(filename):\n",
    "    with open(filename, 'r') as myfile:\n",
    "        text = myfile.read().decode(\"utf-8\").replace('\\n', '')\n",
    "    return text\n",
    "# add file name in the argument\n",
    "text = read_file('nltk_data/corpora/reuters/test/14826')\n",
    "print(text)"
   ]
  },
  {
   "cell_type": "code",
   "execution_count": 103,
   "metadata": {},
   "outputs": [
    {
     "name": "stdout",
     "output_type": "stream",
     "text": [
      "84\n"
     ]
    }
   ],
   "source": [
    "# get the sentences\n",
    "sents = nltk.sent_tokenize(text)\n",
    "print(len(sents))"
   ]
  },
  {
   "cell_type": "code",
   "execution_count": 104,
   "metadata": {},
   "outputs": [
    {
     "name": "stdout",
     "output_type": "stream",
     "text": [
      "[[u'ASIAN', u'EXPORTERS', u'FEAR', u'DAMAGE', u'FROM', u'U.S.-JAPAN', u'RIFT', u'Mounting', u'trade', u'friction', u'between', u'the', u'U.S.', u'And', u'Japan', u'has', u'raised', u'fears', u'among', u'many', u'of', u'Asia', u\"'s\", u'exporting', u'nations', u'that', u'the', u'row', u'could', u'inflict', u'far-reaching', u'economic', u'damage', u',', u'businessmen', u'and', u'officials', u'said', u'.'], [u'They', u'told', u'Reuter', u'correspondents', u'in', u'Asian', u'capitals', u'a', u'U.S.', u'Move', u'against', u'Japan', u'might', u'boost', u'protectionist', u'sentiment', u'in', u'the', u'U.S.', u'And', u'lead', u'to', u'curbs', u'on', u'American', u'imports', u'of', u'their', u'products', u'.'], [u'But', u'some', u'exporters', u'said', u'that', u'while', u'the', u'conflict', u'would', u'hurt', u'them', u'in', u'the', u'long-run', u',', u'in', u'the', u'short-term', u'Tokyo', u\"'s\", u'loss', u'might', u'be', u'their', u'gain', u'.'], [u'The', u'U.S.', u'Has', u'said', u'it', u'will', u'impose', u'300', u'mln', u'dlrs', u'of', u'tariffs', u'on', u'imports', u'of', u'Japanese', u'electronics', u'goods', u'on', u'April', u'17', u',', u'in', u'retaliation', u'for', u'Japan', u\"'s\", u'alleged', u'failure', u'to', u'stick', u'to', u'a', u'pact', u'not', u'to', u'sell', u'semiconductors', u'on', u'world', u'markets', u'at', u'below', u'cost', u'.'], [u'Unofficial', u'Japanese', u'estimates', u'put', u'the', u'impact', u'of', u'the', u'tariffs', u'at', u'10', u'billion', u'dlrs', u'and', u'spokesmen', u'for', u'major', u'electronics', u'firms', u'said', u'they', u'would', u'virtually', u'halt', u'exports', u'of', u'products', u'hit', u'by', u'the', u'new', u'taxes', u'.'], [u'``', u'We', u'would', u\"n't\", u'be', u'able', u'to', u'do', u'business', u',', u\"''\", u'said', u'a', u'spokesman', u'for', u'leading', u'Japanese', u'electronics', u'firm', u'Matsushita', u'Electric', u'Industrial', u'Co', u'Ltd', u'&', u'lt', u';', u'MC.T', u'>', u'.'], [u'``', u'If', u'the', u'tariffs', u'remain', u'in', u'place', u'for', u'any', u'length', u'of', u'time', u'beyond', u'a', u'few', u'months', u'it', u'will', u'mean', u'the', u'complete', u'erosion', u'of', u'exports', u'(', u'of', u'goods', u'subject', u'to', u'tariffs', u')', u'to', u'the', u'U.S.', u',', u\"''\", u'said', u'Tom', u'Murtha', u',', u'a', u'stock', u'analyst', u'at', u'the', u'Tokyo', u'office', u'of', u'broker', u'&', u'lt', u';', u'James', u'Capel', u'and', u'Co', u'>', u'.'], [u'In', u'Taiwan', u',', u'businessmen', u'and', u'officials', u'are', u'also', u'worried', u'.'], [u'``', u'We', u'are', u'aware', u'of', u'the', u'seriousness', u'of', u'the', u'U.S', u'.'], [u'Threat', u'against', u'Japan', u'because', u'it', u'serves', u'as', u'a', u'warning', u'to', u'us', u',', u\"''\", u'said', u'a', u'senior', u'Taiwanese', u'trade', u'official', u'who', u'asked', u'not', u'to', u'be', u'named', u'.'], [u'Taiwan', u'had', u'a', u'trade', u'trade', u'surplus', u'of', u'15.6', u'billion', u'dlrs', u'last', u'year', u',', u'95', u'pct', u'of', u'it', u'with', u'the', u'U.S', u'.'], [u'The', u'surplus', u'helped', u'swell', u'Taiwan', u\"'s\", u'foreign', u'exchange', u'reserves', u'to', u'53', u'billion', u'dlrs', u',', u'among', u'the', u'world', u\"'s\", u'largest', u'.'], [u'``', u'We', u'must', u'quickly', u'open', u'our', u'markets', u',', u'remove', u'trade', u'barriers', u'and', u'cut', u'import', u'tariffs', u'to', u'allow', u'imports', u'of', u'U.S.', u'Products', u',', u'if', u'we', u'want', u'to', u'defuse', u'problems', u'from', u'possible', u'U.S', u'.'], [u'Retaliation', u',', u\"''\", u'said', u'Paul', u'Sheen', u',', u'chairman', u'of', u'textile', u'exporters', u'&', u'lt', u';', u'Taiwan', u'Safe', u'Group', u'>', u'.'], [u'A', u'senior', u'official', u'of', u'South', u'Korea', u\"'s\", u'trade', u'promotion', u'association', u'said', u'the', u'trade', u'dispute', u'between', u'the', u'U.S.', u'And', u'Japan', u'might', u'also', u'lead', u'to', u'pressure', u'on', u'South', u'Korea', u',', u'whose', u'chief', u'exports', u'are', u'similar', u'to', u'those', u'of', u'Japan', u'.'], [u'Last', u'year', u'South', u'Korea', u'had', u'a', u'trade', u'surplus', u'of', u'7.1', u'billion', u'dlrs', u'with', u'the', u'U.S.', u',', u'Up', u'from', u'4.9', u'billion', u'dlrs', u'in', u'1985', u'.'], [u'In', u'Malaysia', u',', u'trade', u'officers', u'and', u'businessmen', u'said', u'tough', u'curbs', u'against', u'Japan', u'might', u'allow', u'hard-hit', u'producers', u'of', u'semiconductors', u'in', u'third', u'countries', u'to', u'expand', u'their', u'sales', u'to', u'the', u'U.S', u'.'], [u'In', u'Hong', u'Kong', u',', u'where', u'newspapers', u'have', u'alleged', u'Japan', u'has', u'been', u'selling', u'below-cost', u'semiconductors', u',', u'some', u'electronics', u'manufacturers', u'share', u'that', u'view', u'.'], [u'But', u'other', u'businessmen', u'said', u'such', u'a', u'short-term', u'commercial', u'advantage', u'would', u'be', u'outweighed', u'by', u'further', u'U.S.', u'Pressure', u'to', u'block', u'imports', u'.'], [u'``', u'That', u'is', u'a', u'very', u'short-term', u'view', u',', u\"''\", u'said', u'Lawrence', u'Mills', u',', u'director-general', u'of', u'the', u'Federation', u'of', u'Hong', u'Kong', u'Industry', u'.'], [u'``', u'If', u'the', u'whole', u'purpose', u'is', u'to', u'prevent', u'imports', u',', u'one', u'day', u'it', u'will', u'be', u'extended', u'to', u'other', u'sources', u'.'], [u'Much', u'more', u'serious', u'for', u'Hong', u'Kong', u'is', u'the', u'disadvantage', u'of', u'action', u'restraining', u'trade', u',', u\"''\", u'he', u'said', u'.'], [u'The', u'U.S.', u'Last', u'year', u'was', u'Hong', u'Kong', u\"'s\", u'biggest', u'export', u'market', u',', u'accounting', u'for', u'over', u'30', u'pct', u'of', u'domestically', u'produced', u'exports', u'.'], [u'The', u'Australian', u'government', u'is', u'awaiting', u'the', u'outcome', u'of', u'trade', u'talks', u'between', u'the', u'U.S.', u'And', u'Japan', u'with', u'interest', u'and', u'concern', u',', u'Industry', u'Minister', u'John', u'Button', u'said', u'in', u'Canberra', u'last', u'Friday', u'.'], [u'``', u'This', u'kind', u'of', u'deterioration', u'in', u'trade', u'relations', u'between', u'two', u'countries', u'which', u'are', u'major', u'trading', u'partners', u'of', u'ours', u'is', u'a', u'very', u'serious', u'matter', u',', u\"''\", u'Button', u'said', u'.'], [u'He', u'said', u'Australia', u\"'s\", u'concerns', u'centred', u'on', u'coal', u'and', u'beef', u',', u'Australia', u\"'s\", u'two', u'largest', u'exports', u'to', u'Japan', u'and', u'also', u'significant', u'U.S.', u'Exports', u'to', u'that', u'country', u'.'], [u'Meanwhile', u'U.S.-Japanese', u'diplomatic', u'manoeuvres', u'to', u'solve', u'the', u'trade', u'stand-off', u'continue', u'.'], [u'Japan', u\"'s\", u'ruling', u'Liberal', u'Democratic', u'Party', u'yesterday', u'outlined', u'a', u'package', u'of', u'economic', u'measures', u'to', u'boost', u'the', u'Japanese', u'economy', u'.'], [u'The', u'measures', u'proposed', u'include', u'a', u'large', u'supplementary', u'budget', u'and', u'record', u'public', u'works', u'spending', u'in', u'the', u'first', u'half', u'of', u'the', u'financial', u'year', u'.'], [u'They', u'also', u'call', u'for', u'stepped-up', u'spending', u'as', u'an', u'emergency', u'measure', u'to', u'stimulate', u'the', u'economy', u'despite', u'Prime', u'Minister', u'Yasuhiro', u'Nakasone', u\"'s\", u'avowed', u'fiscal', u'reform', u'program', u'.'], [u'Deputy', u'U.S.', u'Trade', u'Representative', u'Michael', u'Smith', u'and', u'Makoto', u'Kuroda', u',', u'Japan', u\"'s\", u'deputy', u'minister', u'of', u'International', u'Trade', u'and', u'Industry', u'(', u'MITI', u')', u',', u'are', u'due', u'to', u'meet', u'in', u'Washington', u'this', u'week', u'in', u'an', u'effort', u'to', u'end', u'the', u'dispute', u'.'], [u'CHINA', u'DAILY', u'SAYS', u'VERMIN', u'EAT', u'7-12', u'PCT', u'GRAIN', u'STOCKS', u'A', u'survey', u'of', u'19', u'provinces', u'and', u'seven', u'cities', u'showed', u'vermin', u'consume', u'between', u'seven', u'and', u'12', u'pct', u'of', u'China', u\"'s\", u'grain', u'stocks', u',', u'the', u'China', u'Daily', u'said', u'.'], [u'It', u'also', u'said', u'that', u'each', u'year', u'1.575', u'mln', u'tonnes', u',', u'or', u'25', u'pct', u',', u'of', u'China', u\"'s\", u'fruit', u'output', u'are', u'left', u'to', u'rot', u',', u'and', u'2.1', u'mln', u'tonnes', u',', u'or', u'up', u'to', u'30', u'pct', u',', u'of', u'its', u'vegetables', u'.'], [u'The', u'paper', u'blamed', u'the', u'waste', u'on', u'inadequate', u'storage', u'and', u'bad', u'preservation', u'methods', u'.'], [u'It', u'said', u'the', u'government', u'had', u'launched', u'a', u'national', u'programme', u'to', u'reduce', u'waste', u',', u'calling', u'for', u'improved', u'technology', u'in', u'storage', u'and', u'preservation', u',', u'and', u'greater', u'production', u'of', u'additives', u'.'], [u'The', u'paper', u'gave', u'no', u'further', u'details', u'.'], [u'JAPAN', u'TO', u'REVISE', u'LONG-TERM', u'ENERGY', u'DEMAND', u'DOWNWARDS', u'The', u'Ministry', u'of', u'International', u'Trade', u'and', u'Industry', u'(', u'MITI', u')', u'will', u'revise', u'its', u'long-term', u'energy', u'supply/demand', u'outlook', u'by', u'August', u'to', u'meet', u'a', u'forecast', u'downtrend', u'in', u'Japanese', u'energy', u'demand', u',', u'ministry', u'officials', u'said', u'.'], [u'MITI', u'is', u'expected', u'to', u'lower', u'the', u'projection', u'for', u'primary', u'energy', u'supplies', u'in', u'the', u'year', u'2000', u'to', u'550', u'mln', u'kilolitres', u'(', u'kl', u')', u'from', u'600', u'mln', u',', u'they', u'said', u'.'], [u'The', u'decision', u'follows', u'the', u'emergence', u'of', u'structural', u'changes', u'in', u'Japanese', u'industry', u'following', u'the', u'rise', u'in', u'the', u'value', u'of', u'the', u'yen', u'and', u'a', u'decline', u'in', u'domestic', u'electric', u'power', u'demand', u'.'], [u'MITI', u'is', u'planning', u'to', u'work', u'out', u'a', u'revised', u'energy', u'supply/demand', u'outlook', u'through', u'deliberations', u'of', u'committee', u'meetings', u'of', u'the', u'Agency', u'of', u'Natural', u'Resources', u'and', u'Energy', u',', u'the', u'officials', u'said', u'.'], [u'They', u'said', u'MITI', u'will', u'also', u'review', u'the', u'breakdown', u'of', u'energy', u'supply', u'sources', u',', u'including', u'oil', u',', u'nuclear', u',', u'coal', u'and', u'natural', u'gas', u'.'], [u'Nuclear', u'energy', u'provided', u'the', u'bulk', u'of', u'Japan', u\"'s\", u'electric', u'power', u'in', u'the', u'fiscal', u'year', u'ended', u'March', u'31', u',', u'supplying', u'an', u'estimated', u'27', u'pct', u'on', u'a', u'kilowatt/hour', u'basis', u',', u'followed', u'by', u'oil', u'(', u'23', u'pct', u')', u'and', u'liquefied', u'natural', u'gas', u'(', u'21', u'pct', u')', u',', u'they', u'noted', u'.'], [u'INDONESIA', u'SEES', u'CPO', u'PRICE', u'RISING', u'SHARPLY', u'Indonesia', u'expects', u'crude', u'palm', u'oil', u'(', u'CPO', u')', u'prices', u'to', u'rise', u'sharply', u'to', u'between', u'450', u'and', u'550', u'dlrs', u'a', u'tonne', u'FOB', u'sometime', u'this', u'year', u'because', u'of', u'better', u'European', u'demand', u'and', u'a', u'fall', u'in', u'Malaysian', u'output', u',', u'Hasrul', u'Harahap', u',', u'junior', u'minister', u'for', u'tree', u'crops', u',', u'told', u'Indonesian', u'reporters', u'.'], [u'Prices', u'of', u'Malaysian', u'and', u'Sumatran', u'CPO', u'are', u'now', u'around', u'332', u'dlrs', u'a', u'tonne', u'CIF', u'for', u'delivery', u'in', u'Rotterdam', u',', u'traders', u'said', u'.'], [u'Harahap', u'said', u'Indonesia', u'would', u'maintain', u'its', u'exports', u',', u'despite', u'making', u'recent', u'palm', u'oil', u'purchases', u'from', u'Malaysia', u',', u'so', u'that', u'it', u'could', u'possibly', u'increase', u'its', u'international', u'market', u'share', u'.'], [u'Indonesia', u',', u'the', u'world', u\"'s\", u'second', u'largest', u'producer', u'of', u'palm', u'oil', u'after', u'Malaysia', u',', u'has', u'been', u'forced', u'to', u'import', u'palm', u'oil', u'to', u'ensure', u'supplies', u'during', u'the', u'Moslem', u'fasting', u'month', u'of', u'Ramadan', u'.'], [u'Harahap', u'said', u'it', u'was', u'better', u'to', u'import', u'to', u'cover', u'a', u'temporary', u'shortage', u'than', u'to', u'lose', u'export', u'markets', u'.'], [u'Indonesian', u'exports', u'of', u'CPO', u'in', u'calendar', u'1986', u'were', u'530,500', u'tonnes', u',', u'against', u'468,500', u'in', u'1985', u',', u'according', u'to', u'central', u'bank', u'figures', u'.'], [u'ISUZU', u'PLANS', u'NO', u'INTERIM', u'DIVIDEND', u'Isuzu', u'Motor', u'Ltd', u'&', u'lt', u';', u'ISUM.T', u'>', u'will', u'pay', u'no', u'dividend', u'for', u'the', u'first', u'half', u'year', u'ending', u'April', u'30', u',', u'1987', u',', u'as', u'the', u'company', u'is', u'expected', u'to', u'mark', u'a', u'12', u'billion', u'yen', u'parent', u'company', u'current', u'loss', u'in', u'the', u'first', u'half', u'due', u'to', u'slow', u'exports', u'caused', u'by', u'the', u'yen', u\"'s\", u'appreciation', u',', u'a', u'company', u'spokesman', u'said', u'.'], [u'The', u'company', u'has', u'paid', u'no', u'dividend', u'since', u'the', u'year', u'ended', u'October', u'31', u',', u'1983', u',', u'when', u'it', u'paid', u'five', u'yen', u'.'], [u'It', u'had', u'a', u'4.44', u'billion', u'yen', u'current', u'profit', u'in', u'the', u'first', u'half', u'of', u'1985/86', u'.'], [u'SHOWA', u'DENKO', u'EXPORTS', u'ALUMINIUM', u'CASTING', u'EQUIPMENT', u'&', u'lt', u';', u'Showa', u'Denko', u'Ltd', u'>', u'said', u'it', u'is', u'exporting', u'aluminium', u'billet', u'casting', u'equipment', u'and', u'technology', u'to', u'countries', u'that', u'have', u'recently', u'begun', u'aluminium', u'smelting', u'.'], [u'A', u'company', u'official', u'said', u'it', u'won', u'a', u'500', u'mln', u'yen', u'order', u'to', u'deliver', u'10', u'sets', u'of', u'casting', u'equipment', u'to', u'Venezuela', u\"'s\", u'Venalum', u'by', u'end-1987', u'.'], [u'He', u'said', u'it', u'received', u'an', u'order', u'for', u'one', u'set', u'from', u'Aluminium', u'Bahrain', u'B.S.C', u'.'], [u'Last', u'year', u'and', u'expects', u'further', u'orders', u'from', u'the', u'Bahrain', u'smelter', u'.'], [u'Showa', u'Denko', u'withdrew', u'from', u'smelting', u'last', u'year', u'but', u'expects', u'to', u'increase', u'its', u'sales', u'of', u'equipment', u'and', u'technology', u',', u'he', u'said', u'.'], [u'PRESTON', u'CORP', u'&', u'lt', u';', u'PTRK', u'>', u'SEES', u'FIRST', u'QUARTER', u'LOSS', u'Preston', u'corp', u'said', u'it', u'expects', u'to', u'report', u'a', u'loss', u'of', u'about', u'300,000', u'dlrs', u'or', u'five', u'cts', u'per', u'share', u'for', u'the', u'first', u'quarter', u',', u'compared', u'with', u'a', u'profit', u'of', u'1,081,000', u'dlrs', u'or', u'19', u'cts', u'per', u'share', u'a', u'year', u'before', u'.'], [u'The', u'trucking', u'company', u'attributed', u'the', u'loss', u'to', u'the', u'continued', u'rate', u'of', u'discounted', u'in', u'its', u'primary', u'markets', u',', u'flat', u'revenues', u'and', u'increased', u'costs', u',', u'including', u'uninsured', u'claims', u'expense', u'resulting', u'from', u'adverse', u'weather', u'conditions', u'during', u'the', u'last', u'three', u'months', u'.'], [u'It', u'said', u'results', u'outside', u'the', u'Northeast', u'were', u'strong', u',', u'and', u'it', u'expects', u'to', u'show', u'improved', u'results', u'for', u'the', u'rest', u'of', u'the', u'year', u'.'], [u'BELGIUM', u'TO', u'ISSUE', u'GOLD', u'WARRANTS', u',', u'SOURCES', u'SAY', u'Belgium', u'plans', u'to', u'issue', u'Swiss', u'franc', u'warrants', u'to', u'buy', u'gold', u',', u'with', u'Credit', u'Suisse', u'as', u'lead', u'manager', u',', u'market', u'sources', u'said', u'.'], [u'No', u'confirmation', u'or', u'further', u'details', u'were', u'immediately', u'available', u'.'], [u'CENTURY', u'&', u'lt', u';', u'CCC.O', u'>', u'TO', u'BUY', u'TO', u'PUERTO', u'RICAN', u'CO', u'Century', u'Communications', u'Corp', u'said', u'it', u'had', u'entered', u'into', u'an', u'agreement', u'to', u'acquire', u'all', u'the', u'assets', u'of', u'&', u'lt', u';', u'Community', u'Cable', u'Vision', u'of', u'Puerto', u'Rico', u'Associates', u'>', u'and', u'its', u'associated', u'companies', u'for', u'about', u'12', u'mln', u'dlrs', u'.'], [u'Century', u'said', u'it', u'anticipates', u'that', u'&', u'lt', u';', u'ML', u'Media', u'Partners', u'LP', u'>', u',', u'which', u'jointly', u'owns', u'with', u'Century', u'a', u'company', u'called', u'&', u'lt', u';', u'Cable', u'Television', u'Co', u'>', u'of', u'greater', u'San', u'Juan', u',', u'will', u'join', u'in', u'acquisition', u'and', u'management', u'of', u'Community', u'Cable', u'.'], [u'Century', u'said', u'Community', u'Cable', u'is', u'located', u'in', u'San', u'Juan', u',', u'Puerto', u'Rico', u'.'], [u'CHINA', u'RESUMES', u'USSR', u'SHIP', u'REPAIRS', u'AFTER', u'23', u'YEAR', u'GAP', u'China', u'has', u'resumed', u'repairs', u'of', u'Soviet', u'ships', u'after', u'a', u'23', u'year', u'break', u'caused', u'by', u'the', u'ideological', u'split', u'between', u'the', u'two', u'countries', u'.'], [u'The', u'New', u'China', u'News', u'Agency', u'said', u'an', u'agreement', u'to', u'resume', u'the', u'business', u'was', u'signed', u'by', u'the', u'two', u'sides', u'on', u'Wednesday', u'in', u'Shanghai', u',', u'where', u'three', u'Soviet', u'commercial', u'vessels', u'were', u'being', u'repaired', u'.'], [u'The', u'China', u'Daily', u'said', u'the', u'first', u'two', u'Soviet', u'ships', u'to', u'be', u'repaired', u'in', u'China', u'since', u'1964', u'left', u'the', u'ports', u'of', u'Dalian', u'and', u'Xingang', u'last', u'month', u'.'], [u'Bi', u'Yueran', u',', u'managing', u'director', u'of', u'China', u'State', u'Shipbuilding', u'Corp', u\"'s\", u'ship', u'repair', u'department', u',', u'told', u'the', u'newspaper', u'the', u'Soviet', u'Union', u'lacked', u'adequate', u'repair', u'facilities', u'for', u'the', u'more', u'than', u'600', u'ships', u'deployed', u'in', u'the', u'far', u'east', u'.'], [u'Bi', u'said', u'China', u\"'s\", u'yards', u'offered', u'competitive', u'prices', u',', u'guaranteed', u'quality', u'and', u'prompt', u'delivery', u'.'], [u'TEKTRONIX', u'&', u'lt', u';', u'TEK', u'>', u'BEGINS', u'DUTCH', u'AUCTION', u'TENDER', u'Tektronix', u'Inc', u'said', u'it', u'began', u'its', u'previously', u'announced', u'Dutch', u'Auction', u'cash', u'tender', u'offer', u'for', u'up', u'to', u'10', u'mln', u'of', u'its', u'own', u'common', u'shares', u'.'], [u'Under', u'the', u'terms', u'of', u'the', u'offer', u'the', u'company', u'will', u'select', u'a', u'single', u'cash', u'purchase', u'price', u'for', u'the', u'stock', u',', u'based', u'on', u'the', u'number', u'of', u'shares', u'tendered', u',', u'not', u'to', u'exceed', u'40', u'dlrs', u'per', u'share', u'or', u'be', u'lower', u'than', u'35', u'dlrs', u'per', u'share', u',', u'Tektronix', u'said', u'.'], [u'The', u'company', u'also', u'said', u'it', u'does', u'not', u'intend', u'to', u'spend', u'more', u'than', u'380', u'mln', u'dlrs', u'for', u'the', u'shares', u'tendered', u'.'], [u'It', u'further', u'stated', u'that', u'the', u'tender', u'offer', u'expires', u'on', u'July', u'eight', u',', u'unless', u'extended', u'.'], [u'CORADIAN', u'&', u'lt', u';', u'CDIN.O', u'>', u'STAKE', u'ACQUIRED', u'BY', u'SAGE', u'Coradian', u'Corp', u'said', u'a', u'group', u'led', u'by', u'privately', u'held', u'Sage', u'Equities', u'Group', u'agreed', u'to', u'buy', u'a', u'7.6', u'pct', u'interest', u'in', u'Coradian', u'.'], [u'In', u'connection', u'with', u'the', u'agreement', u',', u'the', u'company', u'said', u'it', u'sold', u'666,667', u'shares', u'at', u'75', u'cts', u'a', u'share', u'.'], [u'It', u'said', u'that', u'in', u'addition', u'to', u'common', u'stock', u',', u'Sage', u'Equities', u'will', u'receive', u'667,667', u'warrants', u'exercisable', u'at', u'1.50', u'dlrs', u'a', u'share', u'.'], [u'HENLEY', u'&', u'lt', u';', u'HENG.O', u'>', u'HAS', u'VENEZUELAN', u'REFINERY', u'PROJECT', u'Henley', u'Group', u'Inc', u\"'s\", u'M.W', u'.'], [u'Kellogg', u'Co', u'subsidiary', u'said', u'it', u'in', u'consortium', u'with', u'&', u'lt', u';', u'Inelectra', u'>', u'received', u'a', u'contract', u'from', u'Corpoven', u'S.A.', u',', u'a', u'Venezuelan-owned', u'domestic', u'oil', u'company', u',', u'to', u'revamp', u'and', u'expand', u'its', u'El', u'Palito', u'Refinery', u'.'], [u'Kellogg', u'said', u'the', u'installed', u'cost', u'of', u'the', u'work', u'to', u'be', u'performed', u'is', u'estimated', u'to', u'be', u'130', u'mln', u'dlrs', u'.'], [u'Inelectra', u',', u'Kellogg', u'said', u',', u'is', u'a', u'major', u'Venezuelan', u'engineering', u'firm', u'.'], [u'Kellog', u'said', u'the', u'project', u'will', u'enable', u'the', u'refinery', u'to', u'produce', u'BTX', u'products', u'--', u'benzene', u',', u'toluene', u',', u'and', u'orthoxylene', u'--', u'by', u'processing', u'naphtha', u'feed', u'from', u'an', u'expanded', u'reformer-hydrotreater', u'.'], [u'Kellogg', u'said', u'the', u'refinery', u\"'s\", u'reformer-hydrotreater', u'will', u'be', u'upgraded', u'to', u'9,500', u'barrels', u'a', u'day', u'capacity', u'from', u'7,500', u'.'], [u'It', u'said', u'the', u'new', u'BTX', u'process', u'units', u'include', u'aromatic', u'extraction', u',', u'xylene', u'fractionation', u',', u'xylene', u'isomerization', u'and', u'thermal', u'hydrodealkylation', u'.'], [u'Kellogg', u'pointed', u'out', u'that', u'Venezuela', u'now', u'imports', u'all', u'of', u'its', u'BTX', u'aromatics', u'.']]\n"
     ]
    }
   ],
   "source": [
    "# # for each sentence word tokenize it\n",
    "words = [nltk.word_tokenize(sent) for sent in sents]\n",
    "print(words)"
   ]
  },
  {
   "cell_type": "code",
   "execution_count": 105,
   "metadata": {
    "collapsed": true
   },
   "outputs": [],
   "source": [
    "#lowercasing the text\n",
    "#remove the words if present in stop list\n",
    "#removing non alphanumeric and numeric text\n",
    "#getting the indices of the words\n",
    "StopWords = stopwords.words(\"english\")\n",
    "index_processed = []\n",
    "text_processed = []\n",
    "p = re.compile('[a-zA-Z]+');\n",
    "for sent in words:\n",
    "    sent = map(lambda word: word.lower(), sent);\n",
    "    sent = [word for word in sent if word not in StopWords]\n",
    "    #doc = [stemmer.stem(word) for word in doc]\n",
    "    filtered_tokens =list(filter(lambda token:p.match(token),sent));\n",
    "    text_processed.append(filtered_tokens)\n",
    "    index = [dictionary[word] if word in dictionary else 0 for word in filtered_tokens]\n",
    "    index_processed.append(index)"
   ]
  },
  {
   "cell_type": "code",
   "execution_count": 106,
   "metadata": {
    "collapsed": true
   },
   "outputs": [],
   "source": [
    "#get sent vectors\n",
    "sent_vec=[]\n",
    "for _ in index_processed:\n",
    "    sent_vec.append(np.sum(embeddings[_],axis=0)/len(_))\n",
    "sent_vec = np.array(sent_vec)"
   ]
  },
  {
   "cell_type": "code",
   "execution_count": 107,
   "metadata": {},
   "outputs": [
    {
     "data": {
      "text/plain": [
       "(84, 256)"
      ]
     },
     "execution_count": 107,
     "metadata": {},
     "output_type": "execute_result"
    }
   ],
   "source": [
    "sent_vec.shape"
   ]
  },
  {
   "cell_type": "code",
   "execution_count": 108,
   "metadata": {
    "collapsed": true
   },
   "outputs": [],
   "source": [
    "#cluster the vectors using k means algo\n",
    "#choose your own n_clusters \n",
    "from sklearn.cluster import KMeans\n",
    "kmeans = KMeans(n_clusters = 7, random_state=0).fit(sent_vec)"
   ]
  },
  {
   "cell_type": "code",
   "execution_count": 113,
   "metadata": {},
   "outputs": [
    {
     "name": "stdout",
     "output_type": "stream",
     "text": [
      "[(0, 47), (1, 19), (4, 7), (5, 5), (3, 4)]\n"
     ]
    }
   ],
   "source": [
    "cluster = collections.Counter(kmeans.labels_).most_common(5)\n",
    "print((cluster))"
   ]
  },
  {
   "cell_type": "code",
   "execution_count": 114,
   "metadata": {},
   "outputs": [
    {
     "name": "stdout",
     "output_type": "stream",
     "text": [
      "[48 16 56 80 19]\n"
     ]
    }
   ],
   "source": [
    "#get the centroid vector and find the nearest vector to it in cluster\n",
    "from scipy import spatial\n",
    "def central_vec(kmeans,cluster):\n",
    "    c_vec = []\n",
    "    vec_index = []\n",
    "    for label,_ in cluster:\n",
    "        index = [i for i in range(len(kmeans.labels_)) if kmeans.labels_[i] == label ]\n",
    "        tree = spatial.KDTree(sent_vec[index])\n",
    "        #print(tree)\n",
    "        query = np.sum(sent_vec,0)/_\n",
    "        d,ind = tree.query(query)\n",
    "        central_vec = sent_vec[index][ind]\n",
    "        c_vec.append(central_vec)\n",
    "        vec_index.append(index[ind])\n",
    "    return c_vec,vec_index\n",
    "c ,v= np.array(central_vec(kmeans,cluster))\n",
    "#c.shape\n",
    "print(v)"
   ]
  },
  {
   "cell_type": "code",
   "execution_count": 115,
   "metadata": {
    "scrolled": true
   },
   "outputs": [
    {
     "name": "stdout",
     "output_type": "stream",
     "text": [
      "ISUZU PLANS NO INTERIM DIVIDEND  Isuzu Motor Ltd &lt;ISUM.T> will pay no  dividend for the first half year ending April 30, 1987, as the  company is expected to mark a 12 billion yen parent company  current loss in the first half due to slow exports caused by  the yen's appreciation, a company spokesman said.\n",
      "In Malaysia, trade officers and businessmen said tough  curbs against Japan might allow hard-hit producers of  semiconductors in third countries to expand their sales to the  U.S.\n",
      "PRESTON CORP &lt;PTRK> SEES FIRST QUARTER LOSS  Preston corp said it expects to  report a loss of about 300,000 dlrs or five cts per share for  the first quarter, compared with a profit of 1,081,000 dlrs or  19 cts per share a year before.\n",
      "Kellog said the project will enable the refinery to produce  BTX products -- benzene, toluene, and orthoxylene -- by  processing naphtha feed from an expanded reformer-hydrotreater.\n",
      "\"That is a very short-term view,\" said Lawrence Mills,  director-general of the Federation of Hong Kong Industry.\n"
     ]
    }
   ],
   "source": [
    "#given the req index print the sentences coressponding to it\n",
    "def print_summary(index):\n",
    "    for i in index:\n",
    "        print(sents[i])\n",
    "        \n",
    "print_summary(v)"
   ]
  },
  {
   "cell_type": "code",
   "execution_count": 112,
   "metadata": {},
   "outputs": [
    {
     "data": {
      "image/png": "[encoded data removed]",
      "text/plain": [
       "<matplotlib.figure.Figure at 0x7fc954a2cd90>"
      ]
     },
     "metadata": {},
     "output_type": "display_data"
    }
   ],
   "source": [
    "from sklearn.manifold import TSNE\n",
    "num_points = 80\n",
    "\n",
    "tsne = TSNE(perplexity=30, n_components=2, init='pca', n_iter=5000)\n",
    "two_d_embeddings = tsne.fit_transform(sent_vec[1:num_points+1, :])\n",
    "two_d_embeddings.shape\n",
    "from matplotlib import pylab\n",
    "def plot(embeddings):\n",
    "  #assert embeddings.shape[0] >= len(labels), 'More labels than embeddings'\n",
    "  pylab.figure(figsize=(15,15))  # in inches\n",
    "  for i in range(80):\n",
    "    x, y = embeddings[i,:]\n",
    "    pylab.scatter(x, y)\n",
    "    #pylab.annotate(label, xy=(x, y), xytext=(5, 2), textcoords='offset points',\n",
    "                   #ha='right', va='bottom')\n",
    "  pylab.show()\n",
    "\n",
    "#words = [reverse_dictionary[i] for i in range(1, num_points+1)]\n",
    "plot(two_d_embeddings)"
   ]
  },
  {
   "cell_type": "code",
   "execution_count": null,
   "metadata": {
    "collapsed": true
   },
   "outputs": [],
   "source": []
  },
  {
   "cell_type": "code",
   "execution_count": null,
   "metadata": {
    "collapsed": true
   },
   "outputs": [],
   "source": []
  },
  {
   "cell_type": "code",
   "execution_count": null,
   "metadata": {
    "collapsed": true
   },
   "outputs": [],
   "source": []
  },
  {
   "cell_type": "code",
   "execution_count": null,
   "metadata": {
    "collapsed": true
   },
   "outputs": [],
   "source": []
  }
 ],
 "metadata": {
  "kernelspec": {
   "display_name": "Python 2",
   "language": "python",
   "name": "python2"
  },
  "language_info": {
   "codemirror_mode": {
    "name": "ipython",
    "version": 2
   },
   "file_extension": ".py",
   "mimetype": "text/x-python",
   "name": "python",
   "nbconvert_exporter": "python",
   "pygments_lexer": "ipython2",
   "version": "2.7.12"
  }
 },
 "nbformat": 4,
 "nbformat_minor": 2
}
